{
  "cells": [
    {
      "cell_type": "markdown",
      "metadata": {
        "id": "view-in-github",
        "colab_type": "text"
      },
      "source": [
        "<a href=\"https://colab.research.google.com/github/St0rmMaster/jess/blob/master/%D0%9A%D0%BE%D0%BF%D0%B8%D1%8F_%D0%B1%D0%BB%D0%BE%D0%BA%D0%BD%D0%BE%D1%82%D0%B0_%22German_ipynb%22.ipynb\" target=\"_parent\"><img src=\"https://colab.research.google.com/assets/colab-badge.svg\" alt=\"Open In Colab\"/></a>"
      ]
    },
    {
      "cell_type": "code",
      "execution_count": null,
      "metadata": {
        "id": "IPBfoWqDnC-G"
      },
      "outputs": [],
      "source": [
        "!pip install python-telegram-bot\n",
        "!pip install aiogram\n",
        "!pip install nest_asyncio"
      ]
    },
    {
      "cell_type": "code",
      "execution_count": null,
      "metadata": {
        "id": "O1Obh8pPBhya"
      },
      "outputs": [],
      "source": [
        "# -*- coding: utf-8 -*-"
      ]
    },
    {
      "cell_type": "code",
      "execution_count": null,
      "metadata": {
        "id": "2yuDlXPOCUEN"
      },
      "outputs": [],
      "source": [
        "from telegram import Update, InlineKeyboardButton, InlineKeyboardMarkup, ChatPermissions\n",
        "from telegram.ext import Application, CommandHandler, CallbackQueryHandler, ContextTypes, MessageHandler, filters, Updater\n",
        "import nest_asyncio\n",
        "nest_asyncio.apply()\n",
        "import sqlite3\n",
        "import logging"
      ]
    },
    {
      "cell_type": "code",
      "execution_count": null,
      "metadata": {
        "id": "MN7QOukVCT98"
      },
      "outputs": [],
      "source": [
        "def connect_db():\n",
        "    conn = sqlite3.connect('db.sqlite')\n",
        "    cursor = conn.cursor()\n",
        "    cursor.execute('''CREATE TABLE IF NOT EXISTS attempted_users (\n",
        "        user_id INTEGER PRIMARY KEY,\n",
        "        username NVARCHAR(255),\n",
        "        question_number INTEGER  -- Добавляем колонку question_number\n",
        "    )''')\n",
        "    cursor.execute('''CREATE TABLE IF NOT EXISTS bot_settings (\n",
        "        setting_key NVARCHAR(255) PRIMARY KEY,\n",
        "        setting_value TEXT\n",
        "    )''')\n",
        "    conn.commit()\n",
        "    return conn"
      ]
    },
    {
      "cell_type": "code",
      "execution_count": null,
      "metadata": {
        "id": "tbHzPgIhCT7F"
      },
      "outputs": [],
      "source": [
        "TOKEN = '7011070020:AAGS3jUQhPPmeUrJQX2AdgnVNMI2ME2339M'\n",
        "CHANNEL_ID = '-1001993399856'\n",
        "ADMIN_CHAT_ID = '-1002097755337'\n",
        "COMMENT_CHAT_ID = '-1002101294439'"
      ]
    },
    {
      "cell_type": "code",
      "execution_count": null,
      "metadata": {
        "id": "84xnaAisCT38"
      },
      "outputs": [],
      "source": [
        "async def start(update: Update, context: ContextTypes.DEFAULT_TYPE) -> None:\n",
        "    user_id = update.effective_user.id\n",
        "    conn = connect_db()\n",
        "    try:\n",
        "        cursor = conn.cursor()\n",
        "        cursor.execute(\"SELECT 1 FROM attempted_users WHERE user_id = ?\", (user_id,))\n",
        "        already_attempted = cursor.fetchone()\n",
        "        if already_attempted:\n",
        "            await update.message.reply_text(\"Вы уже проходили этот тест. Повторное прохождение не разрешено.Обратитесь за помощью к @CaptainGERMAN\")\n",
        "            return\n",
        "        else:\n",
        "            cursor.execute(\"INSERT INTO attempted_users (user_id, username, question_number) VALUES (?, ?, ?)\", (user_id, update.effective_user.username, 1))\n",
        "            conn.commit()\n",
        "            await ask_question(context, user_id, 1, None)\n",
        "    finally:\n",
        "        conn.close()"
      ]
    },
    {
      "cell_type": "code",
      "source": [
        "async def ask_question(context, user_id, question_number, message):\n",
        "    questions = [\n",
        "        \"В 2014 году Россия произвела аннексию полуострова Крым, тем самым нарушив все нормы международного права. Крым должен быть возвращён в состав Украины безоговорочно.\",\n",
        "        \"В феврале 2022 года Россия преступно и предательски напала на Украину. Развязав кровопролитную, захватническую войну.\",\n",
        "        \"Путин - международный преступник, предводитель захватившей власть мафиозной группировки. Убийца и лжец. Его место в тюрьме.\",\n",
        "        \"Я согласен с тем, что оскорбления других участников чата, а также любая дискриминация по расовому признаку недопустимы. За нарушение данного пункта следует перманентный бан.\"\n",
        "    ]\n",
        "    keyboard = [\n",
        "        [InlineKeyboardButton(\"Согласен\", callback_data=f\"agree_{question_number}\"),\n",
        "         InlineKeyboardButton(\"Не согласен\", callback_data=f\"disagree_{question_number}\")],\n",
        "    ]\n",
        "    reply_markup = InlineKeyboardMarkup(keyboard)\n",
        "    if message is None or 'edit_text' not in dir(message):\n",
        "        await context.bot.send_message(chat_id=user_id, text=questions[question_number - 1], reply_markup=reply_markup)\n",
        "    else:\n",
        "        await message.edit_text(text=questions[question_number - 1], reply_markup=reply_markup)"
      ],
      "metadata": {
        "id": "huo4XjHa242q"
      },
      "execution_count": null,
      "outputs": []
    },
    {
      "cell_type": "code",
      "source": [
        "async def handle_response(update: Update, context: ContextTypes.DEFAULT_TYPE) -> None:\n",
        "    query = update.callback_query\n",
        "    await query.answer()\n",
        "    user_id = query.from_user.id\n",
        "    data = query.data\n",
        "    conn = connect_db()\n",
        "    cursor = conn.cursor()\n",
        "    try:\n",
        "        response, question_number = data.split('_')\n",
        "        question_number = int(question_number)\n",
        "        if question_number >= 4 or response == \"disagree\":\n",
        "            if response == \"disagree\":\n",
        "                await query.edit_message_text(text=\"Русский военный корабль... ну ты понял. Вате тут не рады.\", reply_markup=None)\n",
        "                await context.bot.ban_chat_member(chat_id=CHANNEL_ID, user_id=user_id)\n",
        "                await context.bot.ban_chat_member(chat_id=COMMENT_CHAT_ID, user_id=user_id)\n",
        "                await context.bot.send_message(chat_id=ADMIN_CHAT_ID, text=f\"Пользователь {query.from_user.full_name} (ID: {user_id}) не прошел тест и был заблокирован.\")\n",
        "            else:\n",
        "                member = await context.bot.get_chat_member(chat_id=CHANNEL_ID, user_id=user_id)\n",
        "                if member.status in ['left', 'kicked']:\n",
        "                    invite_link = await context.bot.create_chat_invite_link(chat_id=CHANNEL_ID, member_limit=1)\n",
        "                    await context.bot.restrict_chat_member(chat_id=COMMENT_CHAT_ID, user_id=user_id, permissions=ChatPermissions(can_send_messages=True))\n",
        "                    await context.bot.send_message(chat_id=user_id, text=f\"Мы рады свободным, адекватным и честным людям. Добро пожаловать в сообщество! Вот ваша ссылка для вступления в канал: {invite_link.invite_link}\")\n",
        "                    await context.bot.send_message(chat_id=ADMIN_CHAT_ID, text=f\"Пользователь {query.from_user.full_name} (ID: {user_id}) успешно прошел тест и стал подписчиком канала.\")\n",
        "                else:\n",
        "                    await context.bot.restrict_chat_member(chat_id=COMMENT_CHAT_ID, user_id=user_id, permissions=ChatPermissions(can_send_messages=True))\n",
        "                    await query.edit_message_text(text=\"Мы рады свободным, адекватным и честным людям. Теперь вы можете оставлять комментарии.\", reply_markup=None)\n",
        "                    await context.bot.send_message(chat_id=ADMIN_CHAT_ID, text=f\"Подписчик канала {query.from_user.full_name} (ID: {user_id}) успешно прошел тест и получил доступ к комментированию.\")\n",
        "        else:\n",
        "            new_question_number = question_number + 1\n",
        "            cursor.execute(\"UPDATE attempted_users SET question_number = ? WHERE user_id = ?\", (new_question_number, user_id))\n",
        "            await ask_question(context, user_id, new_question_number, query.message)\n",
        "        conn.commit()\n",
        "    except Exception as e:\n",
        "        await query.edit_message_text(text=\"Произошла ошибка. Это не отрицательный результат теста. Пожалуйста, сделайте скрин этого сообщения и обратитесь за помощью к @CaptainGERMAN.\")\n",
        "    finally:\n",
        "        conn.close()"
      ],
      "metadata": {
        "id": "b9Y-pKjh2x4j"
      },
      "execution_count": null,
      "outputs": []
    },
    {
      "cell_type": "code",
      "source": [
        "async def is_user_admin(context: ContextTypes.DEFAULT_TYPE, user_id: int) -> bool:\n",
        "    try:\n",
        "        member = await context.bot.get_chat_member(ADMIN_CHAT_ID, user_id)\n",
        "        return member.status in ['administrator', 'creator']\n",
        "    except Exception as e:\n",
        "        logger.error(f\"Ошибка при проверке статуса администратора: {e}\")\n",
        "        return False"
      ],
      "metadata": {
        "id": "l4z4usuyQK0K"
      },
      "execution_count": null,
      "outputs": []
    },
    {
      "cell_type": "code",
      "source": [
        "async def text_handler(update: Update, context: ContextTypes.DEFAULT_TYPE) -> None:\n",
        "    if 'setting_to_change' in context.user_data:\n",
        "        new_value = update.message.text\n",
        "        setting_key = context.user_data['setting_to_change']\n",
        "        user_id = update.effective_user.id\n",
        "\n",
        "        # Проверяем, что сообщение отправлено в административный чат администратором\n",
        "        if str(update.message.chat_id) == ADMIN_CHAT_ID and await is_user_admin(context, user_id):\n",
        "            # Обновляем настройку в базе данных\n",
        "            conn = connect_db()\n",
        "            cursor = conn.cursor()\n",
        "            cursor.execute(\"UPDATE bot_settings SET setting_value = ? WHERE setting_key = ?\", (new_value, setting_key))\n",
        "            conn.commit()\n",
        "            conn.close()\n",
        "\n",
        "            await update.message.reply_text(f\"Настройка '{setting_key}' обновлена на '{new_value}'.\")\n",
        "            del context.user_data['setting_to_change']  # Очищаем выбранную настройку\n",
        "        else:\n",
        "            await update.message.reply_text('У вас нет прав для выполнения этой операции.')"
      ],
      "metadata": {
        "id": "DDlVCQI_PO3e"
      },
      "execution_count": null,
      "outputs": []
    },
    {
      "cell_type": "code",
      "execution_count": null,
      "metadata": {
        "id": "WKaFVQXirDnE"
      },
      "outputs": [],
      "source": [
        "async def clear_all(update: Update, context: ContextTypes.DEFAULT_TYPE) -> None:\n",
        "    user_id = update.effective_user.id\n",
        "    if str(update.effective_chat.id) == ADMIN_CHAT_ID and await is_user_admin(context, user_id):\n",
        "        conn = connect_db()\n",
        "        cursor = conn.cursor()\n",
        "        cursor.execute('DELETE FROM attempted_users')\n",
        "        conn.commit()\n",
        "        conn.close()\n",
        "        await context.bot.send_message(chat_id=ADMIN_CHAT_ID, text=\"Все данные успешно очищены.\")\n",
        "    else:\n",
        "        await context.bot.send_message(chat_id=ADMIN_CHAT_ID, text=\"У тебя нет прав для выполнения этой команды.\")\n",
        "async def clear_user(update: Update, context: ContextTypes.DEFAULT_TYPE) -> None:\n",
        "    user_id = update.effective_user.id\n",
        "    if str(update.effective_chat.id) == ADMIN_CHAT_ID and await is_user_admin(context, user_id):\n",
        "        await update.message.reply_text(\"Пожалуйста, отправьте юзернейм пользователя для удаления\")\n",
        "        context.user_data['awaiting_username'] = True\n",
        "    else:\n",
        "        await context.bot.send_message(chat_id=ADMIN_CHAT_ID, text=\"У тебя нет прав для выполнения этой команды.\")"
      ]
    },
    {
      "cell_type": "code",
      "execution_count": null,
      "metadata": {
        "id": "8cc88NnjCTxx"
      },
      "outputs": [],
      "source": [
        "async def main():\n",
        "    application = Application.builder().token(TOKEN).build()\n",
        "    application.add_handler(CommandHandler('start', start))\n",
        "    application.add_handler(CommandHandler('clear_all', clear_all))\n",
        "    application.add_handler(CommandHandler('clear_user', clear_user))\n",
        "    application.add_handler(MessageHandler(filters.TEXT & ~filters.COMMAND, text_handler))\n",
        "    application.add_handler(CallbackQueryHandler(handle_response))\n",
        "    await application.run_polling()"
      ]
    },
    {
      "cell_type": "code",
      "execution_count": null,
      "metadata": {
        "id": "epO3umT_CTuu"
      },
      "outputs": [],
      "source": [
        "nest_asyncio.apply()\n",
        "\n",
        "await main()"
      ]
    }
  ],
  "metadata": {
    "colab": {
      "private_outputs": true,
      "provenance": [],
      "cell_execution_strategy": "setup",
      "authorship_tag": "ABX9TyPXQR0ck4GHOGA/SbqHC4xD",
      "include_colab_link": true
    },
    "kernelspec": {
      "display_name": "Python 3",
      "name": "python3"
    },
    "language_info": {
      "name": "python"
    }
  },
  "nbformat": 4,
  "nbformat_minor": 0
}